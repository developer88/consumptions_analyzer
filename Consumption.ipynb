{
 "cells": [
  {
   "cell_type": "markdown",
   "id": "0641caf4-dfe6-40a7-b34e-e608885645c5",
   "metadata": {},
   "source": [
    "# Consumption at Home\n",
    "\n",
    "ℹ️   Analyse consumption of Gas / Water and Electricity at home\n",
    "\n",
    "Before start, make sure you rename `config.ini.example` into `config.ini` and adjust all the config's values.\n",
    "\n",
    "❗️  This will download CSV file from the remove url. Checkout [this guide](https://www.labnol.org/internet/direct-links-for-google-drive/28356/#google-sheets---export-links) if you wish to get the proper link to download CSV directly from Google Sheets."
   ]
  },
  {
   "cell_type": "code",
   "execution_count": null,
   "id": "78e59a96-f5b9-44d1-9da5-73d8106a31a6",
   "metadata": {},
   "outputs": [],
   "source": [
    "import consumption_parser\n",
    "\n",
    "gas = consumption_parser.parseConsumption(\"Gas\")\n",
    "electricity = consumption_parser.parseConsumption(\"Electricity\")\n",
    "water = consumption_parser.parseConsumption(\"Water\")\n",
    "\n",
    "def drawGraph(consumption):\n",
    "    print(consumption[\"consumptionType\"])\n",
    "    # Draw the plot\n",
    "    ax = consumption[\"df\"].plot(x = consumption[\"settings\"][\"timeColumn\"], y = consumption[\"settings\"][\"valueColumn\"], figsize=(15,7))\n",
    "\n",
    "    # Make sure we display all the dates in X\n",
    "    #ax.set_xticks(dfWithoutFirstRow.index)\n",
    "    ax.set_xticks(consumption[\"ticks\"])\n",
    "    ax.set_xticklabels(consumption[\"tickLabels\"]); "
   ]
  },
  {
   "cell_type": "code",
   "execution_count": null,
   "id": "515cc7ec-f29a-4db3-9851-e4a73badb046",
   "metadata": {},
   "outputs": [],
   "source": [
    "drawGraph(gas)"
   ]
  },
  {
   "cell_type": "code",
   "execution_count": null,
   "id": "b92bc798-fce5-4618-800f-35b73dd50d79",
   "metadata": {},
   "outputs": [],
   "source": [
    "drawGraph(electricity)"
   ]
  },
  {
   "cell_type": "code",
   "execution_count": null,
   "id": "8043526d-844a-4ec9-b6ef-a54bdb267878",
   "metadata": {},
   "outputs": [],
   "source": [
    "drawGraph(water)"
   ]
  }
 ],
 "metadata": {
  "kernelspec": {
   "display_name": "Python 3 (ipykernel)",
   "language": "python",
   "name": "python3"
  },
  "language_info": {
   "codemirror_mode": {
    "name": "ipython",
    "version": 3
   },
   "file_extension": ".py",
   "mimetype": "text/x-python",
   "name": "python",
   "nbconvert_exporter": "python",
   "pygments_lexer": "ipython3",
   "version": "3.9.5"
  }
 },
 "nbformat": 4,
 "nbformat_minor": 5
}
