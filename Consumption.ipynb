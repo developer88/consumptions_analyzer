{
 "cells": [
  {
   "cell_type": "markdown",
   "id": "0641caf4-dfe6-40a7-b34e-e608885645c5",
   "metadata": {},
   "source": [
    "# Consumption at Home\n",
    "\n",
    "ℹ️   Analyse consumption of Gas / Water and Electricity at home\n",
    "\n",
    "Before start, make sure you rename `config.ini.example` into `config.ini` and adjust all the config's values.\n",
    "\n",
    "❗️  This will download CSV file from the remove url. Checkout [this guide](https://www.labnol.org/internet/direct-links-for-google-drive/28356/#google-sheets---export-links) if you wish to get the proper link to download CSV directly from Google Sheets."
   ]
  },
  {
   "cell_type": "code",
   "execution_count": null,
   "id": "78e59a96-f5b9-44d1-9da5-73d8106a31a6",
   "metadata": {},
   "outputs": [],
   "source": [
    "import consumption_parser\n",
    "\n",
    "# Fetch and parse the data\n",
    "gas = consumption_parser.parseConsumption(\"Газ\")\n",
    "electricity = consumption_parser.parseConsumption(\"Электричество\")\n",
    "water = consumption_parser.parseConsumption(\"Вода\")"
   ]
  },
  {
   "cell_type": "markdown",
   "id": "3a6b1763",
   "metadata": {},
   "source": [
    "## Current year"
   ]
  },
  {
   "cell_type": "code",
   "execution_count": null,
   "id": "95d58dd3",
   "metadata": {},
   "outputs": [],
   "source": [
    "current_year = int(consumption_parser.lastDigitOfCurrentYear())"
   ]
  },
  {
   "cell_type": "code",
   "execution_count": null,
   "id": "5e943301",
   "metadata": {},
   "outputs": [],
   "source": [
    "periods = [current_year-1, current_year]"
   ]
  },
  {
   "cell_type": "code",
   "execution_count": null,
   "id": "221b212d",
   "metadata": {},
   "outputs": [],
   "source": [
    "consumption_parser.compareYears(gas, years = periods)\n",
    "consumption_parser.compareYears(electricity, years = periods)\n",
    "consumption_parser.compareYears(water, years = periods)"
   ]
  },
  {
   "cell_type": "code",
   "execution_count": null,
   "id": "44e0e956",
   "metadata": {},
   "outputs": [],
   "source": [
    "consumption_parser.compareYearsAsTable(gas, years = periods)\n",
    "consumption_parser.compareYearsAsTable(electricity, years = periods)\n",
    "consumption_parser.compareYearsAsTable(water, years = periods)"
   ]
  },
  {
   "cell_type": "markdown",
   "id": "db095557",
   "metadata": {},
   "source": [
    "## All years"
   ]
  },
  {
   "cell_type": "code",
   "execution_count": null,
   "id": "e28ee326",
   "metadata": {},
   "outputs": [],
   "source": [
    "periods = consumption_parser.listOfYearsFor(20, consumption_parser.lastDigitOfCurrentYear())"
   ]
  },
  {
   "cell_type": "code",
   "execution_count": null,
   "id": "f34a275e",
   "metadata": {},
   "outputs": [],
   "source": [
    "consumption_parser.compareYears(gas, years = periods)\n",
    "consumption_parser.compareYears(electricity, years = periods)\n",
    "consumption_parser.compareYears(water, years = periods)"
   ]
  },
  {
   "cell_type": "code",
   "execution_count": null,
   "id": "cad6e222",
   "metadata": {},
   "outputs": [],
   "source": []
  }
 ],
 "metadata": {
  "kernelspec": {
   "display_name": "Python 3 (ipykernel)",
   "language": "python",
   "name": "python3"
  },
  "language_info": {
   "codemirror_mode": {
    "name": "ipython",
    "version": 3
   },
   "file_extension": ".py",
   "mimetype": "text/x-python",
   "name": "python",
   "nbconvert_exporter": "python",
   "pygments_lexer": "ipython3",
   "version": "3.10.10"
  }
 },
 "nbformat": 4,
 "nbformat_minor": 5
}
