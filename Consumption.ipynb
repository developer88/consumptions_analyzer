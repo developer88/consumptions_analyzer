{
 "cells": [
  {
   "cell_type": "markdown",
   "id": "0641caf4-dfe6-40a7-b34e-e608885645c5",
   "metadata": {},
   "source": [
    "# Consumption at Home\n",
    "\n",
    "ℹ️   Analyse consumption of Gas / Water and Electricity at home\n",
    "\n",
    "Before start, make sure you rename `config.ini.example` into `config.ini` and adjust all the config's values.\n",
    "\n",
    "❗️  This will download CSV file from the remove url. Checkout [this guide](https://www.labnol.org/internet/direct-links-for-google-drive/28356/#google-sheets---export-links) if you wish to get the proper link to download CSV directly from Google Sheets."
   ]
  },
  {
   "cell_type": "code",
   "execution_count": null,
   "id": "78e59a96-f5b9-44d1-9da5-73d8106a31a6",
   "metadata": {},
   "outputs": [],
   "source": [
    "import consumption_parser\n",
    "\n",
    "daysAgoRange = 1095 # 3 years\n",
    "\n",
    "gas = consumption_parser.parseConsumption(\"Газ\", daysAgoRange)\n",
    "electricity = consumption_parser.parseConsumption(\"Электричество\", daysAgoRange)\n",
    "water = consumption_parser.parseConsumption(\"Вода\", daysAgoRange)"
   ]
  },
  {
   "cell_type": "code",
   "execution_count": null,
   "id": "515cc7ec-f29a-4db3-9851-e4a73badb046",
   "metadata": {},
   "outputs": [],
   "source": [
    "consumption_parser.drawGraph(gas)\n",
    "consumption_parser.drawGraph(electricity)\n",
    "consumption_parser.drawGraph(water)"
   ]
  },
  {
   "cell_type": "code",
   "execution_count": null,
   "id": "c4c9730e",
   "metadata": {},
   "outputs": [],
   "source": []
  }
 ],
 "metadata": {
  "kernelspec": {
   "display_name": "Python 3 (ipykernel)",
   "language": "python",
   "name": "python3"
  },
  "language_info": {
   "codemirror_mode": {
    "name": "ipython",
    "version": 3
   },
   "file_extension": ".py",
   "mimetype": "text/x-python",
   "name": "python",
   "nbconvert_exporter": "python",
   "pygments_lexer": "ipython3",
   "version": "3.9.12"
  }
 },
 "nbformat": 4,
 "nbformat_minor": 5
}
