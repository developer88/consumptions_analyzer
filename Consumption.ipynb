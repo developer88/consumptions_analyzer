{
 "cells": [
  {
   "cell_type": "markdown",
   "id": "0641caf4-dfe6-40a7-b34e-e608885645c5",
   "metadata": {},
   "source": [
    "# Consumption at Home\n",
    "\n",
    "ℹ️   Analyse consumption of Gas / Water and Electricity at home\n",
    "\n",
    "Before start, make sure you rename `config.ini.example` into `config.ini` and adjust all the config's values.\n",
    "\n",
    "❗️  This will download CSV file from the remove url. Checkout [this guide](https://www.labnol.org/internet/direct-links-for-google-drive/28356/#google-sheets---export-links) if you wish to get the proper link to download CSV directly from Google Sheets."
   ]
  },
  {
   "cell_type": "code",
   "execution_count": null,
   "id": "78e59a96-f5b9-44d1-9da5-73d8106a31a6",
   "metadata": {},
   "outputs": [],
   "source": [
    "import consumption_parser\n",
    "\n",
    "# Fetch and parse the data\n",
    "gas = consumption_parser.parseConsumption(\"Газ\")\n",
    "electricity = consumption_parser.parseConsumption(\"Электричество\")\n",
    "water = consumption_parser.parseConsumption(\"Вода\")"
   ]
  },
  {
   "cell_type": "code",
   "execution_count": null,
   "id": "db4443f6",
   "metadata": {},
   "outputs": [],
   "source": [
    "consumption_parser.lastDigitOfCurrentYear()"
   ]
  },
  {
   "cell_type": "code",
   "execution_count": null,
   "id": "d72ba842",
   "metadata": {},
   "outputs": [],
   "source": []
  },
  {
   "cell_type": "code",
   "execution_count": null,
   "id": "c415a28b",
   "metadata": {},
   "outputs": [],
   "source": []
  },
  {
   "cell_type": "code",
   "execution_count": null,
   "id": "f7ecc772",
   "metadata": {},
   "outputs": [],
   "source": [
    "consumption_parser.filterByYear(gas, 22)"
   ]
  },
  {
   "cell_type": "code",
   "execution_count": null,
   "id": "2fcdedbc",
   "metadata": {},
   "outputs": [],
   "source": [
    "consumption_parser.filterByYear(gas, 21)"
   ]
  },
  {
   "cell_type": "code",
   "execution_count": null,
   "id": "703d7d52",
   "metadata": {},
   "outputs": [],
   "source": []
  },
  {
   "cell_type": "code",
   "execution_count": null,
   "id": "c4b54e02",
   "metadata": {},
   "outputs": [],
   "source": [
    "consumption_parser.compareYearsAsTable(gas, '21', '22')"
   ]
  },
  {
   "cell_type": "code",
   "execution_count": null,
   "id": "ab03962c",
   "metadata": {},
   "outputs": [],
   "source": [
    "consumption_parser.compareYears(gas, '21', '22')"
   ]
  },
  {
   "cell_type": "code",
   "execution_count": null,
   "id": "41d1014d",
   "metadata": {},
   "outputs": [],
   "source": []
  },
  {
   "cell_type": "code",
   "execution_count": null,
   "id": "694bb6a8",
   "metadata": {},
   "outputs": [],
   "source": []
  },
  {
   "cell_type": "code",
   "execution_count": null,
   "id": "c3d3e3e1",
   "metadata": {},
   "outputs": [],
   "source": [
    "consumption_parser.filterByYear(gas, str(22))"
   ]
  },
  {
   "cell_type": "code",
   "execution_count": null,
   "id": "165996d4",
   "metadata": {},
   "outputs": [],
   "source": []
  },
  {
   "cell_type": "code",
   "execution_count": null,
   "id": "43da63b5",
   "metadata": {},
   "outputs": [],
   "source": [
    "gas"
   ]
  },
  {
   "cell_type": "code",
   "execution_count": null,
   "id": "96762c97",
   "metadata": {},
   "outputs": [],
   "source": []
  },
  {
   "cell_type": "code",
   "execution_count": null,
   "id": "fa52a1fb",
   "metadata": {},
   "outputs": [],
   "source": []
  },
  {
   "cell_type": "code",
   "execution_count": null,
   "id": "15b1e730",
   "metadata": {},
   "outputs": [],
   "source": []
  },
  {
   "cell_type": "code",
   "execution_count": null,
   "id": "81dd5dca",
   "metadata": {},
   "outputs": [],
   "source": []
  },
  {
   "cell_type": "markdown",
   "id": "c1752f6a",
   "metadata": {},
   "source": [
    "# All time graphs"
   ]
  },
  {
   "cell_type": "code",
   "execution_count": null,
   "id": "515cc7ec-f29a-4db3-9851-e4a73badb046",
   "metadata": {},
   "outputs": [],
   "source": [
    "consumption_parser.drawGraph(gas)\n",
    "consumption_parser.drawGraph(electricity)\n",
    "consumption_parser.drawGraph(water)"
   ]
  },
  {
   "cell_type": "code",
   "execution_count": null,
   "id": "ccd3e295",
   "metadata": {},
   "outputs": [],
   "source": [
    "consumption_parser.pivotLastYears(gas, printLabel=True)"
   ]
  },
  {
   "cell_type": "code",
   "execution_count": null,
   "id": "70571936",
   "metadata": {},
   "outputs": [],
   "source": [
    "consumption = gas\n",
    "months_in_order = ['Apr', 'Feb', 'Mar', 'Apr', 'May',\n",
    "                       'Jun', 'Jul', 'Aug', 'Sep', 'Oct', 'Nov', 'Dec']\n",
    "df = consumption['df'].pivot(index='months', columns='years',\n",
    "                                 values=consumption[\"settings\"][\"valueColumn\"])\n",
    "df = df.reindex(months_in_order)\n",
    "df"
   ]
  },
  {
   "cell_type": "code",
   "execution_count": null,
   "id": "f3c1ec8d",
   "metadata": {},
   "outputs": [],
   "source": [
    "consumption_parser.pivotLastYears(electricity, printLabel=True)"
   ]
  },
  {
   "cell_type": "code",
   "execution_count": null,
   "id": "1136a59a",
   "metadata": {},
   "outputs": [],
   "source": [
    "consumption_parser.pivotLastYears(water, printLabel=True)"
   ]
  },
  {
   "cell_type": "code",
   "execution_count": null,
   "id": "2954aea7",
   "metadata": {
    "scrolled": false
   },
   "outputs": [],
   "source": [
    "consumption_parser.drawLastYearsGraph(gas)\n",
    "consumption_parser.drawLastYearsGraph(electricity)\n",
    "consumption_parser.drawLastYearsGraph(water)"
   ]
  }
 ],
 "metadata": {
  "kernelspec": {
   "display_name": "Python 3 (ipykernel)",
   "language": "python",
   "name": "python3"
  },
  "language_info": {
   "codemirror_mode": {
    "name": "ipython",
    "version": 3
   },
   "file_extension": ".py",
   "mimetype": "text/x-python",
   "name": "python",
   "nbconvert_exporter": "python",
   "pygments_lexer": "ipython3",
   "version": "3.10.10"
  }
 },
 "nbformat": 4,
 "nbformat_minor": 5
}
