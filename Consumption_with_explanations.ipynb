{
 "cells": [
  {
   "cell_type": "markdown",
   "id": "97419d0d-0c68-4197-a4cf-b25f572ab55e",
   "metadata": {},
   "source": [
    "# Consumption at Home\n",
    "\n",
    "ℹ️   Analyse consumption of Gas / Water and Electricity at home\n",
    "\n",
    "Before start, make sure you rename `config.ini.example` into `config.ini` and adjust all the config's values.\n",
    "\n",
    "❗️  This will download CSV file from the remove url. Checkout [this guide](https://www.labnol.org/internet/direct-links-for-google-drive/28356/#google-sheets---export-links) if you wish to get the proper link to download CSV directly from Google Sheets."
   ]
  },
  {
   "cell_type": "code",
   "execution_count": null,
   "id": "483d66c4-de8d-4645-bb65-5c9b75ae6fd2",
   "metadata": {},
   "outputs": [],
   "source": [
    "import configparser\n",
    "\n",
    "# Load settings\n",
    "\n",
    "config = configparser.ConfigParser()\n",
    "config.read('config.ini')\n",
    "config.sections()\n",
    "\n",
    "typeColumn = config['MAIN']['TypeColumnName']\n",
    "timeColumn = config['MAIN']['TimeColumnName']\n",
    "valueColumn = config['MAIN']['ValueColumnName']\n",
    "daysAgoRange = config['MAIN']['daysAgoRange']\n",
    "csvUrl = config['MAIN']['FileUrl']\n",
    "\n",
    "print('Config was loaded.')"
   ]
  },
  {
   "cell_type": "code",
   "execution_count": null,
   "id": "78dfc7b5-0172-4062-9079-96145c71f9a9",
   "metadata": {},
   "outputs": [],
   "source": [
    "import pandas as pd\n",
    "import requests\n",
    "import io\n",
    "\n",
    "# Download CSV\n",
    "\n",
    "r = requests.get(csvUrl)\n",
    "if r.ok:\n",
    "    data = r.content.decode('utf8')\n",
    "    df = pd.read_csv(io.StringIO(data), dayfirst=True, parse_dates=True)\n",
    "    print(\"Data downloaded!\")"
   ]
  },
  {
   "cell_type": "code",
   "execution_count": null,
   "id": "051cdcf8-5c9c-4473-99ec-7c7efaa899f6",
   "metadata": {},
   "outputs": [],
   "source": [
    "# Drop hidden columns\n",
    "# NB: Feel free to comment these lines out. This was necessary for me because I had that in my CSV file\n",
    "del df['Дата']\n",
    "del df['Пометка']"
   ]
  },
  {
   "cell_type": "code",
   "execution_count": null,
   "id": "e138447a-c93e-4fd7-800b-6f70299a2ad6",
   "metadata": {},
   "outputs": [],
   "source": [
    "# Check out what we have\n",
    "df.info()"
   ]
  },
  {
   "cell_type": "code",
   "execution_count": null,
   "id": "4a0dac65-0548-4401-978b-85174288d311",
   "metadata": {},
   "outputs": [],
   "source": [
    "# and the data\n",
    "df.head()"
   ]
  },
  {
   "cell_type": "code",
   "execution_count": null,
   "id": "6e751ac1-e36d-4f47-8b9e-58c138025994",
   "metadata": {},
   "outputs": [],
   "source": [
    "# let's convert timeColumn into date format to work with later\n",
    "df[timeColumn] = pd.to_datetime(df[timeColumn], dayfirst=True)\n",
    "df.info()"
   ]
  },
  {
   "cell_type": "code",
   "execution_count": null,
   "id": "ccd2bc19-31a6-40d1-ae94-4dc0ed6157f3",
   "metadata": {},
   "outputs": [],
   "source": [
    "# and check that all the dates were converted properly\n",
    "df"
   ]
  },
  {
   "cell_type": "code",
   "execution_count": null,
   "id": "ffc66df1-1916-4508-b425-0e9335a1cd20",
   "metadata": {},
   "outputs": [],
   "source": [
    "# Select consumption type\n",
    "consumptionType = input(\"Select a type:\")\n",
    "print(\"Chosen type is \" + consumptionType)"
   ]
  },
  {
   "cell_type": "code",
   "execution_count": null,
   "id": "34b1bf7f-5305-4e58-9579-56d8b99bb9bc",
   "metadata": {},
   "outputs": [],
   "source": [
    "# Filter out data by chosen type\n",
    "dataByType = df[df[typeColumn] == consumptionType]"
   ]
  },
  {
   "cell_type": "code",
   "execution_count": null,
   "id": "4f954746-afca-45ca-9e09-c9ba22d87a9b",
   "metadata": {},
   "outputs": [],
   "source": [
    "print(\"Examples of records in the filtered dataset:\")\n",
    "dataByType.head()"
   ]
  },
  {
   "cell_type": "code",
   "execution_count": null,
   "id": "543f556b-6596-46c0-a651-eea4b0ceb3c7",
   "metadata": {},
   "outputs": [],
   "source": [
    "from datetime import date\n",
    "from datetime import datetime as dtObj\n",
    "import datetime\n",
    "\n",
    "# filter for daysAgoRange days ago\n",
    "daysAgo = date.today() - datetime.timedelta(days=int(daysAgoRange))\n",
    "today = date.today()\n",
    "dt = dtObj(daysAgo.year, daysAgo.month, daysAgo.day)\n",
    "dtToday = dtObj(today.year, today.month, today.day)\n",
    "print('Filter data for the last', daysAgoRange, 'day(s), from', dt, 'to', dtToday)\n",
    "\n",
    "# Filter out for the dates\n",
    "dateFilterdDf = dataByType[(dataByType[timeColumn] >= dt) & (dataByType[timeColumn] <= dtToday)]\n",
    "dateFilterdDf"
   ]
  },
  {
   "cell_type": "code",
   "execution_count": null,
   "id": "9f9fd314-34bf-4eed-b005-93f1b0db55ce",
   "metadata": {},
   "outputs": [],
   "source": [
    "# Convert dates into strings and make them more readable\n",
    "#   so that we can just display them in the plot later\n",
    "def format_date(x):\n",
    "    return x.strftime(\"%b %y\")\n",
    "\n",
    "dateFilterdDf[timeColumn] = dateFilterdDf[timeColumn].apply(format_date)\n",
    "dateFilterdDf"
   ]
  },
  {
   "cell_type": "code",
   "execution_count": null,
   "id": "3ae84195-fd0c-4b10-b9ac-eb63ebd80dfb",
   "metadata": {},
   "outputs": [],
   "source": [
    "# Drop unneeded column with type\n",
    "del dateFilterdDf[typeColumn]"
   ]
  },
  {
   "cell_type": "code",
   "execution_count": null,
   "id": "6f500399-68e0-452d-ad40-e166d975ccb4",
   "metadata": {},
   "outputs": [],
   "source": [
    "# Group by month and select min of each group to get 1 record per month to work with\n",
    "# We take min to make sure we take the closest record to the beginning of the month \n",
    "idx = dateFilterdDf.groupby([timeColumn], sort=False)[valueColumn].transform(min) == dateFilterdDf[valueColumn]\n",
    "grouppedDf = dateFilterdDf[idx]\n",
    "grouppedDf"
   ]
  },
  {
   "cell_type": "code",
   "execution_count": null,
   "id": "e27a792f-bf94-4734-83fd-d34ab1d4272d",
   "metadata": {},
   "outputs": [],
   "source": [
    "# To make sure we have all months sorted correctly, we sort it by valueColumn\n",
    "# We do so as we know that counter value is always a cummulative sum, so it always growths.\n",
    "sortedDf = grouppedDf.sort_values(by=[valueColumn])\n",
    "sortedDf"
   ]
  },
  {
   "cell_type": "code",
   "execution_count": null,
   "id": "228c78ac-6d0d-48c3-b0cd-f90aba2f61eb",
   "metadata": {},
   "outputs": [],
   "source": [
    "import matplotlib.pyplot as plt"
   ]
  },
  {
   "cell_type": "code",
   "execution_count": null,
   "id": "2b7e028b-bd13-412a-b678-d1c61860d70f",
   "metadata": {},
   "outputs": [],
   "source": [
    "# Because all the values are a cummulative sum, we extract diff between neighbours\n",
    "# and set the index to move sure the .diff will not complain about strings in timeColumn\n",
    "diffDf = sortedDf.set_index(timeColumn).diff()\n",
    "diffDf"
   ]
  },
  {
   "cell_type": "code",
   "execution_count": null,
   "id": "64e5c80e-9c49-430f-ab45-56aeae01064c",
   "metadata": {},
   "outputs": [],
   "source": [
    "# Remove index to make it easier to draw a plot\n",
    "diffDfWithoutIndex = diffDf.reset_index(level=0)\n",
    "diffDfWithoutIndex"
   ]
  },
  {
   "cell_type": "code",
   "execution_count": null,
   "id": "b0afb699-7480-4685-b362-4df0b9aab4af",
   "metadata": {},
   "outputs": [],
   "source": [
    "# Drop first row that is NaN anyway and so has no any valuable data for us.\n",
    "#dfWithoutFirstAndLastRows = diffDfWithoutIndex.drop(diffDfWithoutIndex.tail(1).index) # drop last n rows\n",
    "dfWithoutFirstRow = diffDfWithoutIndex.drop(diffDfWithoutIndex.head(1).index) # drop first n rows\n",
    "dfWithoutFirstRow"
   ]
  },
  {
   "cell_type": "code",
   "execution_count": null,
   "id": "4b32b8a8-ed1a-48be-9b4c-84ebba429f2b",
   "metadata": {},
   "outputs": [],
   "source": [
    "# Draw the plot\n",
    "ax = dfWithoutFirstRow.plot(x = timeColumn, y = valueColumn, figsize=(15,7))\n",
    "\n",
    "# Make sure we display all the dates in X\n",
    "ax.set_xticks(list(range(0, len(dfWithoutFirstRow[timeColumn]))))\n",
    "ax.set_xticklabels(dfWithoutFirstRow[timeColumn]);"
   ]
  },
  {
   "cell_type": "code",
   "execution_count": null,
   "id": "4869ffc2-44d5-4fd4-b325-d7b7ac6c1fc1",
   "metadata": {},
   "outputs": [],
   "source": []
  }
 ],
 "metadata": {
  "kernelspec": {
   "display_name": "Python 3 (ipykernel)",
   "language": "python",
   "name": "python3"
  },
  "language_info": {
   "codemirror_mode": {
    "name": "ipython",
    "version": 3
   },
   "file_extension": ".py",
   "mimetype": "text/x-python",
   "name": "python",
   "nbconvert_exporter": "python",
   "pygments_lexer": "ipython3",
   "version": "3.9.5"
  }
 },
 "nbformat": 4,
 "nbformat_minor": 5
}
